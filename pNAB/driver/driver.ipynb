{
 "cells": [
  {
   "cell_type": "markdown",
   "metadata": {},
   "source": [
    "\n",
    "# Nucleic Acid Builder Driver\n",
    "\n",
    "Welcome to the Nucleic Acid Builder!\n",
    "\n",
    "Draw as many molecules as you need. Add one atom to represent the connection to the nucleobases/backbone."
   ]
  },
  {
   "cell_type": "code",
   "execution_count": 1,
   "metadata": {
    "scrolled": false
   },
   "outputs": [
    {
     "data": {
      "text/html": [
       "\n",
       "    <script type=\"text/javascript\" src=\"https://peter-ertl.com/jsme/JSME_2017-02-26/jsme/jsme.nocache.js\"></script>\n",
       "\n",
       "    <script>\n",
       "\n",
       "    function jsmeOnLoad() {\n",
       "        //arguments: HTML id, width, height (must be string not number!)\n",
       "\n",
       "        document.JME = new JSApplet.JSME(\"appletContainer\", \"380px\", \"340px\", {\n",
       "                         //optional parameters\n",
       "                         \"options\" : \"query,noreaction,paste\"\n",
       "        });\n",
       "\n",
       "    }\n",
       "\n",
       "    function onSubmit() {\n",
       "        var drawing = document.JME.molFile();\n",
       "        var name = prompt(\"Please enter the name of the molecule\", \"mol\");\n",
       "        var command = `try: molecules[\"\"\"` + name + `\"\"\"] = \"\"\"` + drawing + `\"\"\"` + `\n",
       "except: molecules = {\"\"\"` + name + `\"\"\": \"\"\"` + drawing + `\"\"\"}`; \n",
       "        var kernel = IPython.notebook.kernel;\n",
       "        kernel.execute(command);\n",
       "\n",
       "        var command = `\n",
       "import openbabel\n",
       "mol = openbabel.OBMol()\n",
       "conv = openbabel.OBConversion()\n",
       "conv.SetInAndOutFormats(\"mol\", \"pdb\")\n",
       "conv.ReadString(mol, \"\"\"` + drawing + `\"\"\")\n",
       "builder = openbabel.OBBuilder()\n",
       "builder.Build(mol)\n",
       "mol.AddHydrogens()\n",
       "ff = openbabel.OBForceField.FindForceField(\"mmff94\")\n",
       "ff.Setup(mol)\n",
       "ff.SteepestDescent(500)\n",
       "ff.GetCoordinates(mol)\n",
       "mol.DeleteHydrogens()\n",
       "with open(\"\"\"` + name + `\"\"\" + '.pdb', 'w') as f:\n",
       "    f.write(conv.WriteString(mol))\n",
       "        `;\n",
       "        var kernel = IPython.notebook.kernel;\n",
       "        kernel.execute(command);\n",
       "\n",
       "    }\n",
       "\n",
       "    </script>\n",
       "\n",
       "    <div id=\"appletContainer\"></div>\n",
       "\n",
       "    \n",
       "    <div><button onclick=\"onSubmit()\">done!</button></div>\n",
       "    "
      ],
      "text/plain": [
       "<IPython.core.display.HTML object>"
      ]
     },
     "metadata": {},
     "output_type": "display_data"
    }
   ],
   "source": [
    "import draw\n",
    "\n",
    "draw.draw()"
   ]
  },
  {
   "cell_type": "markdown",
   "metadata": {},
   "source": [
    "## Input"
   ]
  },
  {
   "cell_type": "code",
   "execution_count": null,
   "metadata": {
    "scrolled": false
   },
   "outputs": [],
   "source": [
    "import pNAB\n",
    "\n",
    "run = pNAB.pNAB()"
   ]
  },
  {
   "cell_type": "markdown",
   "metadata": {},
   "source": [
    "## Run"
   ]
  },
  {
   "cell_type": "code",
   "execution_count": null,
   "metadata": {},
   "outputs": [],
   "source": [
    "run.run()"
   ]
  },
  {
   "cell_type": "markdown",
   "metadata": {},
   "source": [
    "## Results"
   ]
  },
  {
   "cell_type": "code",
   "execution_count": null,
   "metadata": {
    "scrolled": false
   },
   "outputs": [],
   "source": [
    "run.get_results()"
   ]
  }
 ],
 "metadata": {
  "kernelspec": {
   "display_name": "Python 3",
   "language": "python",
   "name": "python3"
  },
  "language_info": {
   "codemirror_mode": {
    "name": "ipython",
    "version": 3
   },
   "file_extension": ".py",
   "mimetype": "text/x-python",
   "name": "python",
   "nbconvert_exporter": "python",
   "pygments_lexer": "ipython3",
   "version": "3.7.3"
  }
 },
 "nbformat": 4,
 "nbformat_minor": 2
}
