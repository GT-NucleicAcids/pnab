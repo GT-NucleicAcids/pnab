{
 "cells": [
  {
   "cell_type": "markdown",
   "metadata": {},
   "source": [
    "\n",
    "# Nucleic Acid Builder Driver"
   ]
  },
  {
   "cell_type": "markdown",
   "metadata": {},
   "source": [
    "## Create Input File"
   ]
  },
  {
   "cell_type": "code",
   "execution_count": 12,
   "metadata": {},
   "outputs": [
    {
     "name": "stdout",
     "output_type": "stream",
     "text": [
      "Enter name for input file: temp\n"
     ]
    }
   ],
   "source": [
    "import subprocess\n",
    "import os\n",
    "\n",
    "input_file = open(input(\"Enter name for input file: \"), 'w')"
   ]
  },
  {
   "cell_type": "markdown",
   "metadata": {},
   "source": [
    "## Backbone Parameters\n",
    "\n",
    "**Interconnects (list of int)**: Determines which atom indices connect to other backbones\n",
    "\n",
    "**base_connect (list of int)**: Determines which atom indices form the vector connecting backbone to base molecule\n",
    "\n",
    "**backbone_file_path (str)**: Path to the molecular structure of the backbone"
   ]
  },
  {
   "cell_type": "code",
   "execution_count": null,
   "metadata": {},
   "outputs": [],
   "source": [
    "interconnects = [i for i in input(\"Enter Interconnects \") if i.isdigit()]\n",
    "base_connect = [i for i in input(\"Enter base_connect \") if i.isdigit()]\n",
    "\n",
    "if len(interconnects) > 2:\n",
    "    raise Exception(\"interconnects must have two atoms only\")\n",
    "if len(base_connect) > 2:\n",
    "    raise Exception(\"interconnects must have two atoms only\")\n",
    "\n",
    "backbone_file_path = input(\"Enter backbone file path\")\n",
    "if not os.path.isfile(backbone_file_path):\n",
    "    raise Exception(\"File name %s does not exist\" %backbone_file_path)"
   ]
  },
  {
   "cell_type": "code",
   "execution_count": null,
   "metadata": {},
   "outputs": [],
   "source": []
  }
 ],
 "metadata": {
  "kernelspec": {
   "display_name": "Python 3",
   "language": "python",
   "name": "python3"
  },
  "language_info": {
   "codemirror_mode": {
    "name": "ipython",
    "version": 3
   },
   "file_extension": ".py",
   "mimetype": "text/x-python",
   "name": "python",
   "nbconvert_exporter": "python",
   "pygments_lexer": "ipython3",
   "version": "3.6.6"
  }
 },
 "nbformat": 4,
 "nbformat_minor": 2
}
